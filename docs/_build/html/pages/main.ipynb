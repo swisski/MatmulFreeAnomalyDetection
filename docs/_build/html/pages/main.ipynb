{
 "cells": [
  {
   "cell_type": "markdown",
   "metadata": {},
   "source": [
    "# Project Notebook \n",
    "Project Topic: Network Anomaly Detection with BitNet<br><br>\n",
    "Project Description: One of the main problems with machine learning models on a large scale is their resource-intensive nature. This can cause massive spikes in both energy usage and runtime, which is especially problematic in fields such as networking, where latency is of the utmost importance. Our goal with this project is to transfer the principles of BitNet, a recent model which does away with resource-intensive matrix multiplications via the quantization of weights, to a networking context. Specifically, we build a simple regression model with this method, which we will then use on a dataset of packet traces during which several intrusions were attempted.\n",
    "\n",
    "Collaborators: Alexander Baumgartner, Alexander Williams, Alejandro Alonso\n",
    "\n",
    "Professor: Nick Feamster\n",
    "\n",
    "<br>\n",
    "\n",
    "---"
   ]
  },
  {
   "cell_type": "markdown",
   "metadata": {},
   "source": [
    "### Notebook Summary\n",
    "This notebook evaluates the performance of different IDS models, focusing on both the standard and hardware-efficient variants. It recreates the functionality of `measure_models.py` in a notebook format and includes the integration function directly for better visibility.\n",
    "\n",
    "<br>\n",
    "\n",
    "---"
   ]
  },
  {
   "cell_type": "markdown",
   "metadata": {},
   "source": [
    "### Packages"
   ]
  },
  {
   "cell_type": "code",
   "execution_count": 1,
   "metadata": {},
   "outputs": [
    {
     "name": "stdout",
     "output_type": "stream",
     "text": [
      "Requirement already satisfied: matplotlib in c:\\users\\axalo\\appdata\\local\\packages\\pythonsoftwarefoundation.python.3.9_qbz5n2kfra8p0\\localcache\\local-packages\\python39\\site-packages (3.5.1)\n",
      "Requirement already satisfied: scikit-learn in c:\\users\\axalo\\appdata\\local\\packages\\pythonsoftwarefoundation.python.3.9_qbz5n2kfra8p0\\localcache\\local-packages\\python39\\site-packages (1.5.2)\n",
      "Requirement already satisfied: pandas in c:\\users\\axalo\\appdata\\local\\packages\\pythonsoftwarefoundation.python.3.9_qbz5n2kfra8p0\\localcache\\local-packages\\python39\\site-packages (2.2.3)\n",
      "Requirement already satisfied: numpy in c:\\users\\axalo\\appdata\\local\\packages\\pythonsoftwarefoundation.python.3.9_qbz5n2kfra8p0\\localcache\\local-packages\\python39\\site-packages (1.26.4)\n",
      "Requirement already satisfied: scipy in c:\\users\\axalo\\appdata\\local\\packages\\pythonsoftwarefoundation.python.3.9_qbz5n2kfra8p0\\localcache\\local-packages\\python39\\site-packages (1.13.1)\n",
      "Requirement already satisfied: torch in c:\\users\\axalo\\appdata\\local\\packages\\pythonsoftwarefoundation.python.3.9_qbz5n2kfra8p0\\localcache\\local-packages\\python39\\site-packages (2.0.1)\n",
      "Requirement already satisfied: tqdm in c:\\users\\axalo\\appdata\\local\\packages\\pythonsoftwarefoundation.python.3.9_qbz5n2kfra8p0\\localcache\\local-packages\\python39\\site-packages (4.65.0)\n",
      "Requirement already satisfied: joblib in c:\\users\\axalo\\appdata\\local\\packages\\pythonsoftwarefoundation.python.3.9_qbz5n2kfra8p0\\localcache\\local-packages\\python39\\site-packages (1.3.1)\n",
      "Requirement already satisfied: pathlib in c:\\users\\axalo\\appdata\\local\\packages\\pythonsoftwarefoundation.python.3.9_qbz5n2kfra8p0\\localcache\\local-packages\\python39\\site-packages (1.0.1)\n",
      "Requirement already satisfied: psutil in c:\\users\\axalo\\appdata\\local\\packages\\pythonsoftwarefoundation.python.3.9_qbz5n2kfra8p0\\localcache\\local-packages\\python39\\site-packages (5.9.4)\n",
      "Requirement already satisfied: pyRapl in c:\\users\\axalo\\appdata\\local\\packages\\pythonsoftwarefoundation.python.3.9_qbz5n2kfra8p0\\localcache\\local-packages\\python39\\site-packages (0.2.3.1)\n",
      "Requirement already satisfied: cycler>=0.10 in c:\\users\\axalo\\appdata\\local\\packages\\pythonsoftwarefoundation.python.3.9_qbz5n2kfra8p0\\localcache\\local-packages\\python39\\site-packages (from matplotlib) (0.11.0)\n",
      "Requirement already satisfied: fonttools>=4.22.0 in c:\\users\\axalo\\appdata\\local\\packages\\pythonsoftwarefoundation.python.3.9_qbz5n2kfra8p0\\localcache\\local-packages\\python39\\site-packages (from matplotlib) (4.28.5)\n",
      "Requirement already satisfied: kiwisolver>=1.0.1 in c:\\users\\axalo\\appdata\\local\\packages\\pythonsoftwarefoundation.python.3.9_qbz5n2kfra8p0\\localcache\\local-packages\\python39\\site-packages (from matplotlib) (1.3.2)\n",
      "Requirement already satisfied: packaging>=20.0 in c:\\users\\axalo\\appdata\\local\\packages\\pythonsoftwarefoundation.python.3.9_qbz5n2kfra8p0\\localcache\\local-packages\\python39\\site-packages (from matplotlib) (24.2)\n",
      "Requirement already satisfied: pillow>=6.2.0 in c:\\users\\axalo\\appdata\\local\\packages\\pythonsoftwarefoundation.python.3.9_qbz5n2kfra8p0\\localcache\\local-packages\\python39\\site-packages (from matplotlib) (9.0.1)\n",
      "Requirement already satisfied: pyparsing>=2.2.1 in c:\\users\\axalo\\appdata\\local\\packages\\pythonsoftwarefoundation.python.3.9_qbz5n2kfra8p0\\localcache\\local-packages\\python39\\site-packages (from matplotlib) (3.0.6)\n",
      "Requirement already satisfied: python-dateutil>=2.7 in c:\\users\\axalo\\appdata\\local\\packages\\pythonsoftwarefoundation.python.3.9_qbz5n2kfra8p0\\localcache\\local-packages\\python39\\site-packages (from matplotlib) (2.8.2)\n",
      "Requirement already satisfied: threadpoolctl>=3.1.0 in c:\\users\\axalo\\appdata\\local\\packages\\pythonsoftwarefoundation.python.3.9_qbz5n2kfra8p0\\localcache\\local-packages\\python39\\site-packages (from scikit-learn) (3.5.0)\n",
      "Requirement already satisfied: pytz>=2020.1 in c:\\users\\axalo\\appdata\\local\\packages\\pythonsoftwarefoundation.python.3.9_qbz5n2kfra8p0\\localcache\\local-packages\\python39\\site-packages (from pandas) (2023.3)\n",
      "Requirement already satisfied: tzdata>=2022.7 in c:\\users\\axalo\\appdata\\local\\packages\\pythonsoftwarefoundation.python.3.9_qbz5n2kfra8p0\\localcache\\local-packages\\python39\\site-packages (from pandas) (2022.7)\n",
      "Requirement already satisfied: filelock in c:\\users\\axalo\\appdata\\local\\packages\\pythonsoftwarefoundation.python.3.9_qbz5n2kfra8p0\\localcache\\local-packages\\python39\\site-packages (from torch) (3.12.2)\n",
      "Requirement already satisfied: typing-extensions in c:\\users\\axalo\\appdata\\local\\packages\\pythonsoftwarefoundation.python.3.9_qbz5n2kfra8p0\\localcache\\local-packages\\python39\\site-packages (from torch) (4.11.0)\n",
      "Requirement already satisfied: sympy in c:\\users\\axalo\\appdata\\local\\packages\\pythonsoftwarefoundation.python.3.9_qbz5n2kfra8p0\\localcache\\local-packages\\python39\\site-packages (from torch) (1.10.1)\n",
      "Requirement already satisfied: networkx in c:\\users\\axalo\\appdata\\local\\packages\\pythonsoftwarefoundation.python.3.9_qbz5n2kfra8p0\\localcache\\local-packages\\python39\\site-packages (from torch) (3.1)\n",
      "Requirement already satisfied: jinja2 in c:\\users\\axalo\\appdata\\local\\packages\\pythonsoftwarefoundation.python.3.9_qbz5n2kfra8p0\\localcache\\local-packages\\python39\\site-packages (from torch) (3.1.4)\n",
      "Requirement already satisfied: colorama in c:\\users\\axalo\\appdata\\local\\packages\\pythonsoftwarefoundation.python.3.9_qbz5n2kfra8p0\\localcache\\local-packages\\python39\\site-packages (from tqdm) (0.4.6)\n",
      "Requirement already satisfied: six>=1.5 in c:\\users\\axalo\\appdata\\local\\packages\\pythonsoftwarefoundation.python.3.9_qbz5n2kfra8p0\\localcache\\local-packages\\python39\\site-packages (from python-dateutil>=2.7->matplotlib) (1.16.0)\n",
      "Requirement already satisfied: MarkupSafe>=2.0 in c:\\users\\axalo\\appdata\\local\\packages\\pythonsoftwarefoundation.python.3.9_qbz5n2kfra8p0\\localcache\\local-packages\\python39\\site-packages (from jinja2->torch) (2.0.1)\n",
      "Requirement already satisfied: mpmath>=0.19 in c:\\users\\axalo\\appdata\\local\\packages\\pythonsoftwarefoundation.python.3.9_qbz5n2kfra8p0\\localcache\\local-packages\\python39\\site-packages (from sympy->torch) (1.2.1)\n",
      "Note: you may need to restart the kernel to use updated packages.\n"
     ]
    }
   ],
   "source": [
    "%pip install matplotlib scikit-learn pandas numpy scipy torch tqdm joblib pathlib psutil pyRapl"
   ]
  },
  {
   "cell_type": "markdown",
   "metadata": {},
   "source": [
    "### Setup and Initialization\n",
    "*This cell imports all necessary libraries and checks for optional features like pyRAPL for energy monitoring.*"
   ]
  },
  {
   "cell_type": "code",
   "execution_count": 2,
   "metadata": {},
   "outputs": [
    {
     "name": "stderr",
     "output_type": "stream",
     "text": [
      "WARNING:root:imports error \n",
      " You need to install pymongo>=3.9.0 in order to use MongoOutput \n"
     ]
    }
   ],
   "source": [
    "# Required imports\n",
    "import time\n",
    "import torch\n",
    "import psutil\n",
    "import platform\n",
    "\n",
    "import numpy as np\n",
    "import matplotlib.pyplot as plt\n",
    "\n",
    "from pathlib import Path\n",
    "from datetime import datetime\n",
    "from sklearn.model_selection import train_test_split\n",
    "from sklearn.metrics import confusion_matrix, ConfusionMatrixDisplay\n",
    "from sklearn.metrics import classification_report, precision_recall_curve, auc\n",
    "\n",
    "# Import pyRAPL for energy measurement if available\n",
    "try:\n",
    "    import pyRAPL\n",
    "    PYRAPL_AVAILABLE = True\n",
    "except ImportError:\n",
    "    PYRAPL_AVAILABLE = False"
   ]
  },
  {
   "cell_type": "markdown",
   "metadata": {},
   "source": [
    "*This cell imports necessary models and helpers from our py scripts.*"
   ]
  },
  {
   "cell_type": "code",
   "execution_count": 3,
   "metadata": {},
   "outputs": [],
   "source": [
    "from models.baseline import StandardIDS\n",
    "from models.efficient_ids import EfficientIDS\n",
    "\n",
    "from helpers.ids_processor import IDSProcessor\n",
    "from helpers.data_processor import MemoryEfficientIDSDataProcessor"
   ]
  },
  {
   "cell_type": "markdown",
   "metadata": {},
   "source": [
    "*This cell establishes notebook-wide constants.*"
   ]
  },
  {
   "cell_type": "code",
   "execution_count": 4,
   "metadata": {},
   "outputs": [],
   "source": [
    "SAVED_MODELS_DIR = \"./saved_models\""
   ]
  },
  {
   "cell_type": "markdown",
   "metadata": {},
   "source": [
    "### Data Directory and Configurations\n",
    "*This cell defines parameters for data loading, including the location of the dataset and the size of data chunks for processing. These settings can be adjusted as needed.*\n"
   ]
  },
  {
   "cell_type": "code",
   "execution_count": 5,
   "metadata": {},
   "outputs": [
    {
     "name": "stdout",
     "output_type": "stream",
     "text": [
      "Data directory: data/\n"
     ]
    }
   ],
   "source": [
    "# Dataset location and parameters\n",
    "data_dir = 'data/'\n",
    "chunk_size = 100000\n",
    "saved_model = \"trained_matmulfree_model_12_11_24.pth\"\n",
    "epochs = 20\n",
    "\n",
    "print(\"Data directory:\", data_dir)"
   ]
  },
  {
   "cell_type": "markdown",
   "metadata": {},
   "source": [
    "### Integration Function\n",
    "*The function handles data preprocessing, training, and evaluation for the IDS models. This cell includes the definition to ensure clarity and usability within the notebook.*"
   ]
  },
  {
   "cell_type": "code",
   "execution_count": 6,
   "metadata": {},
   "outputs": [],
   "source": [
    "def integrate_with_hardware_efficient_ids(\n",
    "        data_dir,\n",
    "        chunk_size=chunk_size,\n",
    "        saved_model=saved_model,\n",
    "        model_type='matmul_free',\n",
    "        epochs=epochs,\n",
    "        callback=None\n",
    "    ):\n",
    "    \"\"\"\n",
    "    Improved integration function with measurement callback.\n",
    "    \"\"\"\n",
    "    print(\"\\nInitializing data processor...\")\n",
    "    data_processor = MemoryEfficientIDSDataProcessor()\n",
    "\n",
    "    print(\"Loading and preprocessing data...\")\n",
    "    try:\n",
    "        X, y, feature_columns = data_processor.load_and_preprocess_data(data_dir, chunk_size)\n",
    "    except Exception as e:\n",
    "        raise RuntimeError(f\"Error during data processing: {str(e)}\")\n",
    "\n",
    "    # Data validation\n",
    "    print(\"\\nValidating data...\")\n",
    "    assert not np.isnan(X).any(), \"X contains NaN values\"\n",
    "    assert not np.isinf(X).any(), \"X contains infinite values\"\n",
    "    print(\"Data validation passed\")\n",
    "\n",
    "    # Split data\n",
    "    print(\"\\nSplitting data...\")\n",
    "    X_train_val, X_test, y_train_val, y_test = train_test_split(\n",
    "        X, y, test_size=0.2, random_state=42, stratify=y\n",
    "    )\n",
    "    X_train, X_val, y_train, y_val = train_test_split(\n",
    "        X_train_val, y_train_val, test_size=0.2, random_state=42, stratify=y_train_val\n",
    "    )\n",
    "\n",
    "    # Initialize processor and train/load model\n",
    "    print(\"\\nInitializing model...\")\n",
    "    ids_processor = IDSProcessor()\n",
    "    \n",
    "    if callback:\n",
    "        callback()  # Initial measurement\n",
    "    \n",
    "    if saved_model and Path(f'{SAVED_MODELS_DIR}/{saved_model}').exists():\n",
    "        print(\"Loading saved model...\")\n",
    "        checkpoint = torch.load(f'{SAVED_MODELS_DIR}/{saved_model}', map_location=torch.device('cpu'))\n",
    "        ids_processor.model = (EfficientIDS if model_type == 'matmul_free' else StandardIDS)(\n",
    "            num_features=X.shape[1],\n",
    "            **checkpoint['hyperparameters']\n",
    "        ).to(ids_processor.device)\n",
    "        print(\"Loading state dict...\")\n",
    "        ids_processor.model.load_state_dict(checkpoint['model_state_dict'])\n",
    "    else:\n",
    "        print(\"Training new model...\")\n",
    "        def training_callback():\n",
    "            if callback:\n",
    "                callback()\n",
    "        \n",
    "        ids_processor.train_model(\n",
    "            X_train, y_train,\n",
    "            X_val, y_val,\n",
    "            epochs=epochs,\n",
    "            model_type=model_type,\n",
    "            callback=training_callback\n",
    "        )\n",
    "        \n",
    "        # Save model\n",
    "        checkpoint = {\n",
    "            'model_state_dict': ids_processor.model.state_dict(),\n",
    "            'hyperparameters': ids_processor.config,\n",
    "            'feature_stats': data_processor.feature_stats\n",
    "        }\n",
    "        torch.save(\n",
    "            checkpoint,\n",
    "            f'{SAVED_MODELS_DIR}/trained_{model_type}_model_{datetime.now().strftime(\"%m%d%Y-%H%M%S\")}.pth'\n",
    "        )\n",
    "\n",
    "    if callback:\n",
    "        callback()  # Final measurement\n",
    "\n",
    "    return ids_processor, {\n",
    "        'X_test': X_test,\n",
    "        'y_test': y_test,\n",
    "        'feature_columns': feature_columns\n",
    "    }"
   ]
  },
  {
   "cell_type": "markdown",
   "metadata": {},
   "source": [
    "### Running the Models and Measuring Performance\n",
    "!!! might want to break this section up\n",
    "\n",
    "*This section runs the models, collects performance metrics, and logs CPU and energy usage. Inline measurements are taken using callbacks, and results are structured for later analysis.*"
   ]
  },
  {
   "cell_type": "code",
   "execution_count": 11,
   "metadata": {},
   "outputs": [
    {
     "name": "stdout",
     "output_type": "stream",
     "text": [
      "pyRAPL unavailable. Using CPU usage for power estimation.\n",
      "\n",
      "Running matmul_free model...\n",
      "\n",
      "Initializing data processor...\n",
      "Loading and preprocessing data...\n",
      "\n",
      "Processing Tuesday-WorkingHours.pcap_ISCX.csv...\n",
      "Processed 445909 total rows\n",
      "Removed 0 corrupted rows (0.00%)\n",
      "\n",
      "Data Statistics:\n",
      "Total samples: 445909\n",
      "\n",
      "Attack distribution:\n",
      "BENIGN: 432074 samples (96.90%)\n",
      "FTP-Patator: 7938 samples (1.78%)\n",
      "SSH-Patator: 5897 samples (1.32%)\n",
      "\n",
      "Combining processed data...\n",
      "Encoding labels...\n",
      "Handling missing values in features...\n",
      "Final dataset shape: (445909, 78)\n",
      "Number of features: 78\n",
      "Class distribution: [432074  13835]\n",
      "\n",
      "Validating data...\n",
      "Data validation passed\n",
      "\n",
      "Splitting data...\n",
      "\n",
      "Initializing model...\n",
      "Loading saved model...\n",
      "Loading state dict...\n",
      "\n",
      "MATMUL_FREE MODEL RESULTS:\n",
      "Runtime: 170.51 seconds\n",
      "Peak CPU Usage: 19.1%\n",
      "Average CPU Usage: 9.6%\n",
      "Energy Consumed: 1058.43 Joules\n",
      "PR-AUC Score: 0.995\n",
      "\n",
      "Classification Report:\n",
      "\n",
      "Class 0.0:\n",
      "Precision: 1.000\n",
      "Recall: 0.997\n",
      "F1-score: 0.999\n",
      "\n",
      "Class 1.0:\n",
      "Precision: 0.922\n",
      "Recall: 1.000\n",
      "F1-score: 0.959\n"
     ]
    }
   ],
   "source": [
    "# Initialize results dictionary\n",
    "results = {}\n",
    "\n",
    "# Set up pyRAPL if available\n",
    "is_linux = platform.system() == 'Linux'\n",
    "if PYRAPL_AVAILABLE and is_linux:\n",
    "    pyRAPL.setup()\n",
    "else:\n",
    "    print(\"pyRAPL unavailable. Using CPU usage for power estimation.\")\n",
    "\n",
    "# Run both models\n",
    "for model_type in ['matmul_free']: #, 'standard']:\n",
    "    print(f\"\\nRunning {model_type} model...\")\n",
    "\n",
    "    # Initialize measurements\n",
    "    start_time = time.time()\n",
    "    cpu_usage = []\n",
    "    energy_meter = None\n",
    "\n",
    "    if PYRAPL_AVAILABLE and is_linux:\n",
    "        energy_meter = pyRAPL.Measurement(f\"{model_type}_energy\")\n",
    "        energy_meter.begin()\n",
    "\n",
    "    try:\n",
    "        def measure_callback():\n",
    "            cpu_percent = psutil.cpu_percent()\n",
    "            cpu_usage.append(cpu_percent)\n",
    "\n",
    "        # Run model\n",
    "        ids_processor, test_data = integrate_with_hardware_efficient_ids(\n",
    "            data_dir=data_dir,\n",
    "            chunk_size=chunk_size,\n",
    "            saved_model=saved_model,\n",
    "            model_type=model_type,\n",
    "            epochs=epochs,\n",
    "            callback=measure_callback\n",
    "        )\n",
    "\n",
    "        # Make predictions\n",
    "        predictions, prediction_scores = ids_processor.detect_anomalies(\n",
    "            test_data['X_test'], \n",
    "            return_scores=True\n",
    "        )\n",
    "\n",
    "        # Calculate metrics\n",
    "        precision, recall, _ = precision_recall_curve(\n",
    "            test_data['y_test'],\n",
    "            prediction_scores\n",
    "        )\n",
    "        pr_auc = auc(recall, precision)\n",
    "\n",
    "        classification_metrics = classification_report(\n",
    "            test_data['y_test'],\n",
    "            predictions,\n",
    "            output_dict=True\n",
    "        )\n",
    "\n",
    "    finally:\n",
    "        if energy_meter:\n",
    "            energy_meter.end()\n",
    "\n",
    "    # Collect final measurements\n",
    "    end_time = time.time()\n",
    "    runtime = end_time - start_time\n",
    "    peak_cpu = max(cpu_usage) if cpu_usage else 0\n",
    "    avg_cpu = np.mean(cpu_usage) if cpu_usage else 0\n",
    "\n",
    "    # Calculate energy consumption\n",
    "    if energy_meter:\n",
    "        energy_consumed = energy_meter.result.energy / 1e6  # Convert to joules\n",
    "    else:\n",
    "        tdp_watts = 65  # Approximate TDP for a typical CPU\n",
    "        power_readings = [(tdp_watts * usage) / 100.0 for usage in cpu_usage]\n",
    "        energy_consumed = np.mean(power_readings) * runtime if power_readings else 0\n",
    "\n",
    "    # Store results\n",
    "    results[model_type] = {\n",
    "        'runtime_seconds': runtime,\n",
    "        'peak_cpu_usage_percent': peak_cpu,\n",
    "        'avg_cpu_usage_percent': avg_cpu,\n",
    "        'energy_consumed_joules': energy_consumed,\n",
    "        'classification_report': classification_metrics,\n",
    "        'precision': precision.tolist(),\n",
    "        'recall': recall.tolist(),\n",
    "        'pr_auc': pr_auc,\n",
    "        'cpu_usage': cpu_usage,\n",
    "        'y_test': test_data['y_test'].tolist()\n",
    "    }\n",
    "\n",
    "    print(f\"\\n{model_type.upper()} MODEL RESULTS:\")\n",
    "    print(f\"Runtime: {runtime:.2f} seconds\")\n",
    "    print(f\"Peak CPU Usage: {peak_cpu:.1f}%\")\n",
    "    print(f\"Average CPU Usage: {avg_cpu:.1f}%\")\n",
    "    print(f\"Energy Consumed: {energy_consumed:.2f} Joules\")\n",
    "    print(f\"PR-AUC Score: {pr_auc:.3f}\")\n",
    "    print(\"\\nClassification Report:\")\n",
    "    for label in ['0.0', '1.0']:\n",
    "        metrics = classification_metrics[label]\n",
    "        print(f\"\\nClass {label}:\")\n",
    "        print(f\"Precision: {metrics['precision']:.3f}\")\n",
    "        print(f\"Recall: {metrics['recall']:.3f}\")\n",
    "        print(f\"F1-score: {metrics['f1-score']:.3f}\")"
   ]
  },
  {
   "cell_type": "markdown",
   "metadata": {},
   "source": [
    "### Results Summary\n",
    "*This cell saves the results into a JSON file for reference and displays a textual summary of the collected data.*"
   ]
  },
  {
   "cell_type": "code",
   "execution_count": null,
   "metadata": {},
   "outputs": [
    {
     "name": "stdout",
     "output_type": "stream",
     "text": [
      "{\n",
      "  \"matmul_free\": {\n",
      "    \"runtime_seconds\": 170.50791573524475,\n",
      "    \"peak_cpu_usage_percent\": 19.1,\n",
      "    \"avg_cpu_usage_percent\": 9.55,\n",
      "    \"energy_consumed_joules\": 1058.4278869265318,\n",
      "    \"classification_report\": {\n",
      "      \"0.0\": {\n",
      "        \"precision\": 1.0,\n",
      "        \"recall\": 0.9972921367818087,\n",
      "        \"f1-score\": 0.9986442327748036,\n",
      "        \"support\": 86415.0\n",
      "      },\n",
      "      \"1.0\": {\n",
      "        \"precision\": 0.9220259913362212,\n",
      "        \"recall\": 1.0,\n",
      "        \"f1-score\": 0.9594313453536755,\n",
      "        \"s\n"
     ]
    }
   ],
   "source": [
    "# Display summary\n",
    "import json\n",
    "print(json.dumps(results, indent=2)[:500])  # truncated for viewability"
   ]
  },
  {
   "cell_type": "markdown",
   "metadata": {},
   "source": [
    "### Precision-Recall Visualization\n",
    "*This cell generates precision-recall curves for each model, providing insights into their classification performance.*"
   ]
  },
  {
   "cell_type": "code",
   "execution_count": 13,
   "metadata": {},
   "outputs": [
    {
     "data": {
      "image/png": "[encoded data removed]",
      "text/plain": [
       "<Figure size 432x288 with 1 Axes>"
      ]
     },
     "metadata": {
      "needs_background": "light"
     },
     "output_type": "display_data"
    }
   ],
   "source": [
    "for model_type in results:\n",
    "    # Precision-Recall Curve\n",
    "    plt.figure()\n",
    "    plt.plot(results[model_type]['recall'], results[model_type]['precision'], label='PR Curve')\n",
    "    plt.xlabel('Recall')\n",
    "    plt.ylabel('Precision')\n",
    "    plt.title(f'{model_type.capitalize()} Model: Precision-Recall Curve')\n",
    "    plt.legend()\n",
    "    plt.show()"
   ]
  },
  {
   "cell_type": "markdown",
   "metadata": {},
   "source": [
    "### CPU Usage Visualization\n",
    "*This cell visualizes the CPU usage over time for each model, offering a perspective on computational efficiency.*"
   ]
  },
  {
   "cell_type": "code",
   "execution_count": 14,
   "metadata": {},
   "outputs": [
    {
     "name": "stdout",
     "output_type": "stream",
     "text": [
      "Saved model used\n"
     ]
    }
   ],
   "source": [
    "if not saved_model:\n",
    "    for model_type in results:\n",
    "        # CPU Usage\n",
    "        plt.figure()\n",
    "        plt.plot(results[model_type]['cpu_usage'], label='CPU Usage')\n",
    "        plt.xlabel('Time')\n",
    "        plt.ylabel('CPU Usage (%)')\n",
    "        plt.title(f'{model_type.capitalize()} Model: CPU Usage Over Time')\n",
    "        plt.legend()\n",
    "        plt.show()\n",
    "else:\n",
    "    print(\"Saved model used\")"
   ]
  },
  {
   "cell_type": "markdown",
   "metadata": {},
   "source": [
    "### Confusion Matrix Visualization\n",
    "*This cell visualizes the confusion matrix for each model.*"
   ]
  },
  {
   "cell_type": "code",
   "execution_count": 16,
   "metadata": {},
   "outputs": [
    {
     "data": {
      "image/png": "[encoded data removed]",
      "text/plain": [
       "<Figure size 432x288 with 2 Axes>"
      ]
     },
     "metadata": {
      "needs_background": "light"
     },
     "output_type": "display_data"
    }
   ],
   "source": [
    "for model_type in results:\n",
    "    cm = confusion_matrix(results[model_type]['y_test'], predictions)\n",
    "    disp = ConfusionMatrixDisplay(confusion_matrix=cm, display_labels=[\"Benign\", \"Attack\"])\n",
    "    disp.plot(cmap=plt.cm.Blues)\n",
    "    plt.title(f\"Confusion Matrix - {model_type}\")\n",
    "    plt.show()"
   ]
  },
  {
   "cell_type": "markdown",
   "metadata": {},
   "source": [
    "# Conclusion\n",
    "\n",
    "This notebook provides an executable example of IDS performance evaluation, combining the integration function with inline performance measurements and visualization.\n",
    "\n",
    "*The notebook achieves a comprehensive evaluation of IDS models and provides actionable insights for improving intrusion detection systems.*"
   ]
  }
 ],
 "metadata": {
  "kernelspec": {
   "display_name": "Python 3",
   "language": "python",
   "name": "python3"
  },
  "language_info": {
   "codemirror_mode": {
    "name": "ipython",
    "version": 3
   },
   "file_extension": ".py",
   "mimetype": "text/x-python",
   "name": "python",
   "nbconvert_exporter": "python",
   "pygments_lexer": "ipython3",
   "version": "3.9.13"
  }
 },
 "nbformat": 4,
 "nbformat_minor": 2
}
